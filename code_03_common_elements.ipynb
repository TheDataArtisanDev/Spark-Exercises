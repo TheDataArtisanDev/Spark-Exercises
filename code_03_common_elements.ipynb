{
 "cells": [
  {
   "cell_type": "code",
   "execution_count": 1,
   "metadata": {},
   "outputs": [],
   "source": [
    "from pyspark.sql import SparkSession\n",
    "\n",
    "# Initialize Spark session\n",
    "spark = SparkSession.builder.appName(\"DataFrameIntersection\").getOrCreate()\n",
    "\n",
    "# Sample data for DataFrame1 (equivalent to RDD1)\n",
    "df1_data = [\n",
    "    ('A', 'x123'),\n",
    "    ('B', 'y123'),\n",
    "    ('C', 'z123')\n",
    "]\n",
    "\n",
    "# Sample data for DataFrame2 (equivalent to RDD2)\n",
    "df2_data = [\n",
    "    ('A',),\n",
    "    ('C',)\n",
    "]\n",
    "\n",
    "# Create DataFrames\n",
    "df1 = spark.createDataFrame(df1_data, [\"col1\", \"col2\"])\n",
    "df2 = spark.createDataFrame(df2_data, [\"col1\"])\n",
    "\n",
    "\n",
    "# Expected output\n",
    "# col1 col2\n",
    "# A     x123\n",
    "# C     z123"
   ]
  },
  {
   "cell_type": "code",
   "execution_count": 6,
   "metadata": {},
   "outputs": [
    {
     "name": "stdout",
     "output_type": "stream",
     "text": [
      "+----+----+\n",
      "|col1|col2|\n",
      "+----+----+\n",
      "|   A|x123|\n",
      "|   C|z123|\n",
      "+----+----+\n",
      "\n"
     ]
    }
   ],
   "source": [
    "df1.join(df2,on=df1.col1==df2.col1,how=\"left\")\\\n",
    "    .filter(df2.col1.isNotNull()).select(df2.col1,df1.col2).show()"
   ]
  },
  {
   "cell_type": "code",
   "execution_count": null,
   "metadata": {},
   "outputs": [],
   "source": []
  }
 ],
 "metadata": {
  "kernelspec": {
   "display_name": "Python 3",
   "language": "python",
   "name": "python3"
  },
  "language_info": {
   "codemirror_mode": {
    "name": "ipython",
    "version": 3
   },
   "file_extension": ".py",
   "mimetype": "text/x-python",
   "name": "python",
   "nbconvert_exporter": "python",
   "pygments_lexer": "ipython3",
   "version": "3.9.12"
  }
 },
 "nbformat": 4,
 "nbformat_minor": 2
}
