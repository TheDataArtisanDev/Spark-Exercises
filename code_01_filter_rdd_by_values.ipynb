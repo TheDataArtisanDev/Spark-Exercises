{
 "cells": [
  {
   "cell_type": "code",
   "execution_count": 1,
   "metadata": {},
   "outputs": [],
   "source": [
    "# Start a Spark session\n",
    "from pyspark import SparkContext\n",
    "sc = SparkContext(\"local\", \"RDDFilterExample\")\n",
    "\n",
    "# Create rdd1 with ID, service name, test name, and date\n",
    "rdd1 = sc.parallelize([\n",
    "    ('_guid_F361IeVTC8Q0kckDRw7iOJCe64ELpRmMKQgESgf-uEE=',\n",
    "     'serviceXXX', \n",
    "     'testAB_02', \n",
    "     '2016-07-03')\n",
    "])\n",
    "\n",
    "# Create rdd2 with ID, test ID, and date\n",
    "rdd2 = sc.parallelize([\n",
    "    ('9b023b8233c242c09b93506942002e0a', '01', '2016-11-02'),\n",
    "    ('XXXX52547412558933nnBlmquhdyhM', '02', '2016-11-04')\n",
    "])\n",
    "\n",
    "# Define the check_number\n",
    "check_number = '01'\n"
   ]
  },
  {
   "cell_type": "code",
   "execution_count": 2,
   "metadata": {},
   "outputs": [
    {
     "name": "stdout",
     "output_type": "stream",
     "text": [
      "[]\n"
     ]
    }
   ],
   "source": [
    "# Filtering rdd1 to check if test name does not contain check_number\n",
    "if rdd1.filter(lambda x: not x[2].endswith(check_number)).isEmpty():\n",
    "    # Filtering rdd2 to match check_number\n",
    "    new_rdd2 = rdd2.filter(lambda x: x[1] == check_number)\n",
    "    result = new_rdd2.collect()\n",
    "else:\n",
    "    result = []\n",
    "\n",
    "# Output the result\n",
    "print(result)\n"
   ]
  },
  {
   "cell_type": "code",
   "execution_count": null,
   "metadata": {},
   "outputs": [],
   "source": []
  }
 ],
 "metadata": {
  "kernelspec": {
   "display_name": "Python 3",
   "language": "python",
   "name": "python3"
  },
  "language_info": {
   "codemirror_mode": {
    "name": "ipython",
    "version": 3
   },
   "file_extension": ".py",
   "mimetype": "text/x-python",
   "name": "python",
   "nbconvert_exporter": "python",
   "pygments_lexer": "ipython3",
   "version": "3.9.12"
  }
 },
 "nbformat": 4,
 "nbformat_minor": 2
}
