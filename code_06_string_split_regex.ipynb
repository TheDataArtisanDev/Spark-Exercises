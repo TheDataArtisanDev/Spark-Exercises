{
 "cells": [
  {
   "cell_type": "code",
   "execution_count": 1,
   "metadata": {},
   "outputs": [],
   "source": [
    "from pyspark.sql import SparkSession\n",
    "\n",
    "# Initialize Spark session\n",
    "spark = SparkSession.builder.appName(\"SkipColExamples\").getOrCreate()"
   ]
  },
  {
   "cell_type": "code",
   "execution_count": 2,
   "metadata": {},
   "outputs": [],
   "source": [
    "one_value = ['to@abc.com', '[* the cat in the hat is fat\\r\\n* synnopsis -- hey the cat who is wearing the hat is getting too big for its outfit as evidenced by this photo [img123123.png] \\r\\n* please get a new cat, or a new hat I would suggest something like this [newhatforcat.jpg]\\r\\nsigned\\r\\nbob <bob@somecompany.com>]', 'from@abc.com']\n"
   ]
  },
  {
   "cell_type": "code",
   "execution_count": 6,
   "metadata": {},
   "outputs": [
    {
     "name": "stdout",
     "output_type": "stream",
     "text": [
      "+----------------------------------------------------------------------------------------------------------------------------------------------------------------------------------------------------------------------------------------------------------------------------------------------------------------------------------+----------+------------+-------------------------+\n",
      "|emailobj                                                                                                                                                                                                                                                                                                                          |to        |from        |body                     |\n",
      "+----------------------------------------------------------------------------------------------------------------------------------------------------------------------------------------------------------------------------------------------------------------------------------------------------------------------------------+----------+------------+-------------------------+\n",
      "|[to@abc.com, [* the cat in the hat is fat\\r\\n* synnopsis -- hey the cat who is wearing the hat is getting too big for its outfit as evidenced by this photo [img123123.png] \\r\\n* please get a new cat, or a new hat I would suggest something like this [newhatforcat.jpg]\\r\\nsigned\\r\\nbob <bob@somecompany.com>], from@abc.com]|to@abc.com|from@abc.com|the cat in the hat is fat|\n",
      "+----------------------------------------------------------------------------------------------------------------------------------------------------------------------------------------------------------------------------------------------------------------------------------------------------------------------------------+----------+------------+-------------------------+\n",
      "\n"
     ]
    }
   ],
   "source": [
    "from pyspark.sql.functions import regexp_extract\n",
    "\n",
    "# Create DataFrame\n",
    "df = spark.createDataFrame(data=[(one_value,)], schema='emailobj: string')\n",
    "\n",
    "# Extract 'to' field (content before the first comma)\n",
    "df = df.withColumn(\"to\", regexp_extract(df[\"emailobj\"], r'^\\[([^,]+),', 1))\n",
    "\n",
    "# Extract 'from' field (content after the last comma)\n",
    "df = df.withColumn(\"from\", regexp_extract(df[\"emailobj\"], r',\\s+([^,]+)\\]$', 1))\n",
    "\n",
    "# Extract 'body' field (excluding image references)\n",
    "df = df.withColumn(\"body\", regexp_extract(df[\"emailobj\"], r'\\[\\*\\s(.+?)\\r\\n', 1))\n",
    "\n",
    "df.show(truncate=False)"
   ]
  },
  {
   "cell_type": "code",
   "execution_count": null,
   "metadata": {},
   "outputs": [],
   "source": []
  }
 ],
 "metadata": {
  "kernelspec": {
   "display_name": "Python 3",
   "language": "python",
   "name": "python3"
  },
  "language_info": {
   "codemirror_mode": {
    "name": "ipython",
    "version": 3
   },
   "file_extension": ".py",
   "mimetype": "text/x-python",
   "name": "python",
   "nbconvert_exporter": "python",
   "pygments_lexer": "ipython3",
   "version": "3.9.12"
  }
 },
 "nbformat": 4,
 "nbformat_minor": 2
}
